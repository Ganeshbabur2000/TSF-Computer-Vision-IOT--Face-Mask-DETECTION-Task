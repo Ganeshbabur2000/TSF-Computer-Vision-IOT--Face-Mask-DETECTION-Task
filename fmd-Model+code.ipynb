{
 "cells": [
  {
   "cell_type": "markdown",
   "metadata": {},
   "source": [
    "#  FACE MASK DETECTION-TSF-GRIP-JULY21\n",
    "\n",
    "##Ganesh Babu R\n",
    "\n"
   ]
  },
  {
   "cell_type": "code",
   "execution_count": 1,
   "metadata": {},
   "outputs": [
    {
     "name": "stdout",
     "output_type": "stream",
     "text": [
      "Note: you may need to restart the kernel to use updated packages.\n"
     ]
    }
   ],
   "source": [
    "pip install tensorflow>=1.15.2"
   ]
  },
  {
   "cell_type": "code",
   "execution_count": 2,
   "metadata": {
    "scrolled": false
   },
   "outputs": [
    {
     "name": "stdout",
     "output_type": "stream",
     "text": [
      "Requirement already satisfied: keras==2.3.1 in d:\\anaconda\\lib\\site-packages (2.3.1)\n",
      "Requirement already satisfied: keras-preprocessing>=1.0.5 in d:\\anaconda\\lib\\site-packages (from keras==2.3.1) (1.1.2)\n",
      "Requirement already satisfied: pyyaml in d:\\anaconda\\lib\\site-packages (from keras==2.3.1) (5.3.1)\n",
      "Requirement already satisfied: scipy>=0.14 in d:\\anaconda\\lib\\site-packages (from keras==2.3.1) (1.4.1)\n",
      "Requirement already satisfied: keras-applications>=1.0.6 in d:\\anaconda\\lib\\site-packages (from keras==2.3.1) (1.0.8)\n",
      "Requirement already satisfied: six>=1.9.0 in d:\\anaconda\\lib\\site-packages (from keras==2.3.1) (1.15.0)\n",
      "Requirement already satisfied: numpy>=1.9.1 in d:\\anaconda\\lib\\site-packages (from keras==2.3.1) (1.19.5)\n",
      "Requirement already satisfied: h5py in d:\\anaconda\\lib\\site-packages (from keras==2.3.1) (3.1.0)\n",
      "Note: you may need to restart the kernel to use updated packages.\n"
     ]
    }
   ],
   "source": [
    "pip install keras==2.3.1"
   ]
  },
  {
   "cell_type": "code",
   "execution_count": 3,
   "metadata": {
    "scrolled": true
   },
   "outputs": [
    {
     "name": "stdout",
     "output_type": "stream",
     "text": [
      "Collecting numpy==1.18.2\n",
      "  Using cached numpy-1.18.2-cp38-cp38-win_amd64.whl (12.8 MB)\n",
      "Installing collected packages: numpy\n",
      "  Attempting uninstall: numpy\n",
      "    Found existing installation: numpy 1.19.5\n",
      "    Uninstalling numpy-1.19.5:\n",
      "      Successfully uninstalled numpy-1.19.5\n",
      "Successfully installed numpy-1.18.2\n",
      "Note: you may need to restart the kernel to use updated packages.\n"
     ]
    },
    {
     "name": "stderr",
     "output_type": "stream",
     "text": [
      "ERROR: After October 2020 you may experience errors when installing or updating packages. This is because pip will change the way that it resolves dependency conflicts.\n",
      "\n",
      "We recommend you use --use-feature=2020-resolver to test your packages with the new resolver before it becomes the default.\n",
      "\n",
      "tensorflow 2.5.0 requires numpy~=1.19.2, but you'll have numpy 1.18.2 which is incompatible.\n"
     ]
    }
   ],
   "source": [
    "pip install numpy==1.18.2"
   ]
  },
  {
   "cell_type": "code",
   "execution_count": 4,
   "metadata": {},
   "outputs": [
    {
     "name": "stdout",
     "output_type": "stream",
     "text": [
      "Requirement already satisfied: matplotlib==3.2.1 in d:\\anaconda\\lib\\site-packages (3.2.1)Note: you may need to restart the kernel to use updated packages.\n",
      "Requirement already satisfied: python-dateutil>=2.1 in d:\\anaconda\\lib\\site-packages (from matplotlib==3.2.1) (2.8.1)\n",
      "Requirement already satisfied: kiwisolver>=1.0.1 in d:\\anaconda\\lib\\site-packages (from matplotlib==3.2.1) (1.3.0)\n",
      "Requirement already satisfied: numpy>=1.11 in d:\\anaconda\\lib\\site-packages (from matplotlib==3.2.1) (1.18.2)\n",
      "Requirement already satisfied: pyparsing!=2.0.4,!=2.1.2,!=2.1.6,>=2.0.1 in d:\\anaconda\\lib\\site-packages (from matplotlib==3.2.1) (2.4.7)\n",
      "Requirement already satisfied: cycler>=0.10 in d:\\anaconda\\lib\\site-packages (from matplotlib==3.2.1) (0.10.0)\n",
      "\n",
      "Requirement already satisfied: six>=1.5 in d:\\anaconda\\lib\\site-packages (from python-dateutil>=2.1->matplotlib==3.2.1) (1.15.0)\n"
     ]
    }
   ],
   "source": [
    "pip install matplotlib==3.2.1"
   ]
  },
  {
   "cell_type": "code",
   "execution_count": 5,
   "metadata": {},
   "outputs": [
    {
     "name": "stdout",
     "output_type": "stream",
     "text": [
      "Requirement already satisfied: scipy==1.4.1 in d:\\anaconda\\lib\\site-packages (1.4.1)\n",
      "Requirement already satisfied: numpy>=1.13.3 in d:\\anaconda\\lib\\site-packages (from scipy==1.4.1) (1.18.2)\n",
      "Note: you may need to restart the kernel to use updated packages.\n"
     ]
    }
   ],
   "source": [
    "pip install scipy==1.4.1"
   ]
  },
  {
   "cell_type": "code",
   "execution_count": 6,
   "metadata": {},
   "outputs": [
    {
     "name": "stdout",
     "output_type": "stream",
     "text": [
      "Requirement already satisfied: opencv-python==4.2.0.* in d:\\anaconda\\lib\\site-packages (4.2.0.34)\n",
      "Requirement already satisfied: numpy>=1.17.3 in d:\\anaconda\\lib\\site-packages (from opencv-python==4.2.0.*) (1.18.2)\n",
      "Note: you may need to restart the kernel to use updated packages.\n"
     ]
    }
   ],
   "source": [
    "pip install opencv-python==4.2.0.*"
   ]
  },
  {
   "cell_type": "code",
   "execution_count": 7,
   "metadata": {
    "scrolled": true
   },
   "outputs": [
    {
     "name": "stdout",
     "output_type": "stream",
     "text": [
      "Requirement already satisfied: imutils==0.5.3 in d:\\anaconda\\lib\\site-packages (0.5.3)\n",
      "Note: you may need to restart the kernel to use updated packages.\n"
     ]
    }
   ],
   "source": [
    "pip install imutils==0.5.3"
   ]
  },
  {
   "cell_type": "code",
   "execution_count": 8,
   "metadata": {
    "scrolled": false
   },
   "outputs": [
    {
     "name": "stdout",
     "output_type": "stream",
     "text": [
      "[INFO] loading images...\n"
     ]
    },
    {
     "name": "stderr",
     "output_type": "stream",
     "text": [
      "D:\\ANACONDA\\lib\\site-packages\\PIL\\Image.py:951: UserWarning: Palette images with Transparency expressed in bytes should be converted to RGBA images\n",
      "  warnings.warn(\n"
     ]
    },
    {
     "name": "stdout",
     "output_type": "stream",
     "text": [
      "WARNING:tensorflow:`input_shape` is undefined or non-square, or `rows` is not in [96, 128, 160, 192, 224]. Weights for input shape (224, 224) will be loaded as the default.\n",
      "[INFO] compiling model...\n",
      "[INFO] training head...\n"
     ]
    },
    {
     "name": "stderr",
     "output_type": "stream",
     "text": [
      "D:\\ANACONDA\\lib\\site-packages\\tensorflow\\python\\keras\\optimizer_v2\\optimizer_v2.py:374: UserWarning: The `lr` argument is deprecated, use `learning_rate` instead.\n",
      "  warnings.warn(\n"
     ]
    },
    {
     "name": "stdout",
     "output_type": "stream",
     "text": [
      "Epoch 1/20\n",
      "95/95 [==============================] - 162s 2s/step - loss: 0.4325 - accuracy: 0.8316 - val_loss: 0.1562 - val_accuracy: 0.9844\n",
      "Epoch 2/20\n",
      "95/95 [==============================] - 194s 2s/step - loss: 0.1543 - accuracy: 0.9634 - val_loss: 0.0800 - val_accuracy: 0.9909\n",
      "Epoch 3/20\n",
      "95/95 [==============================] - 201s 2s/step - loss: 0.1087 - accuracy: 0.9736 - val_loss: 0.0586 - val_accuracy: 0.9922\n",
      "Epoch 4/20\n",
      "95/95 [==============================] - 179s 2s/step - loss: 0.0801 - accuracy: 0.9799 - val_loss: 0.0461 - val_accuracy: 0.9935\n",
      "Epoch 5/20\n",
      "95/95 [==============================] - 182s 2s/step - loss: 0.0712 - accuracy: 0.9796 - val_loss: 0.0400 - val_accuracy: 0.9935\n",
      "Epoch 6/20\n",
      "95/95 [==============================] - 163s 2s/step - loss: 0.0608 - accuracy: 0.9825 - val_loss: 0.0376 - val_accuracy: 0.9935\n",
      "Epoch 7/20\n",
      "95/95 [==============================] - 161s 2s/step - loss: 0.0521 - accuracy: 0.9848 - val_loss: 0.0341 - val_accuracy: 0.9935\n",
      "Epoch 8/20\n",
      "95/95 [==============================] - 156s 2s/step - loss: 0.0509 - accuracy: 0.9868 - val_loss: 0.0324 - val_accuracy: 0.9935\n",
      "Epoch 9/20\n",
      "95/95 [==============================] - 139s 1s/step - loss: 0.0517 - accuracy: 0.9848 - val_loss: 0.0362 - val_accuracy: 0.9896\n",
      "Epoch 10/20\n",
      "95/95 [==============================] - 138s 1s/step - loss: 0.0382 - accuracy: 0.9901 - val_loss: 0.0310 - val_accuracy: 0.9935\n",
      "Epoch 11/20\n",
      "95/95 [==============================] - 132s 1s/step - loss: 0.0409 - accuracy: 0.9858 - val_loss: 0.0269 - val_accuracy: 0.9948\n",
      "Epoch 12/20\n",
      "95/95 [==============================] - 146s 2s/step - loss: 0.0446 - accuracy: 0.9865 - val_loss: 0.0271 - val_accuracy: 0.9948\n",
      "Epoch 13/20\n",
      "95/95 [==============================] - 145s 2s/step - loss: 0.0371 - accuracy: 0.9891 - val_loss: 0.0273 - val_accuracy: 0.9948\n",
      "Epoch 14/20\n",
      "95/95 [==============================] - 144s 2s/step - loss: 0.0329 - accuracy: 0.9911 - val_loss: 0.0257 - val_accuracy: 0.9948\n",
      "Epoch 15/20\n",
      "95/95 [==============================] - 154s 2s/step - loss: 0.0372 - accuracy: 0.9898 - val_loss: 0.0248 - val_accuracy: 0.9935\n",
      "Epoch 16/20\n",
      "95/95 [==============================] - 145s 2s/step - loss: 0.0368 - accuracy: 0.9885 - val_loss: 0.0240 - val_accuracy: 0.9948\n",
      "Epoch 17/20\n",
      "95/95 [==============================] - 140s 1s/step - loss: 0.0295 - accuracy: 0.9904 - val_loss: 0.0244 - val_accuracy: 0.9935\n",
      "Epoch 18/20\n",
      "95/95 [==============================] - 140s 1s/step - loss: 0.0291 - accuracy: 0.9918 - val_loss: 0.0234 - val_accuracy: 0.9948\n",
      "Epoch 19/20\n",
      "95/95 [==============================] - 140s 1s/step - loss: 0.0316 - accuracy: 0.9888 - val_loss: 0.0262 - val_accuracy: 0.9922\n",
      "Epoch 20/20\n",
      "95/95 [==============================] - 143s 2s/step - loss: 0.0276 - accuracy: 0.9914 - val_loss: 0.0260 - val_accuracy: 0.9935\n",
      "[INFO] evaluating network...\n",
      "              precision    recall  f1-score   support\n",
      "\n",
      "   with_mask       0.99      0.99      0.99       383\n",
      "without_mask       0.99      0.99      0.99       384\n",
      "\n",
      "    accuracy                           0.99       767\n",
      "   macro avg       0.99      0.99      0.99       767\n",
      "weighted avg       0.99      0.99      0.99       767\n",
      "\n",
      "[INFO] saving mask detector model...\n"
     ]
    },
    {
     "name": "stderr",
     "output_type": "stream",
     "text": [
      "D:\\ANACONDA\\lib\\site-packages\\tensorflow\\python\\keras\\utils\\generic_utils.py:494: CustomMaskWarning: Custom mask layers require a config and must override get_config. When loading, the custom mask layer must be passed to the custom_objects argument.\n",
      "  warnings.warn('Custom mask layers require a config and must override '\n"
     ]
    },
    {
     "data": {
      "image/png": "[encoded data removed]",
      "text/plain": [
       "<Figure size 432x288 with 1 Axes>"
      ]
     },
     "metadata": {},
     "output_type": "display_data"
    }
   ],
   "source": [
    "# import the necessary packages\n",
    "\n",
    "from tensorflow.keras.preprocessing.image import ImageDataGenerator\n",
    "from tensorflow.keras.applications import MobileNetV2\n",
    "from tensorflow.keras.layers import AveragePooling2D\n",
    "from tensorflow.keras.layers import Dropout\n",
    "from tensorflow.keras.layers import Flatten\n",
    "from tensorflow.keras.layers import Dense\n",
    "from tensorflow.keras.layers import Input\n",
    "from tensorflow.keras.models import Model\n",
    "from tensorflow.keras.optimizers import Adam\n",
    "from tensorflow.keras.applications.mobilenet_v2 import preprocess_input\n",
    "from tensorflow.keras.preprocessing.image import img_to_array\n",
    "from tensorflow.keras.preprocessing.image import load_img\n",
    "from tensorflow.keras.utils import to_categorical\n",
    "from sklearn.preprocessing import LabelBinarizer\n",
    "from sklearn.model_selection import train_test_split\n",
    "from sklearn.metrics import classification_report\n",
    "from imutils import paths\n",
    "import matplotlib.pyplot as plt\n",
    "import numpy as np\n",
    "import os\n",
    "\n",
    "# initialize the initial learning rate, number of epochs to train for,\n",
    "# and batch size\n",
    "INIT_LR = 1e-4 #initial learning rate(it should be less to get better accuracy)\n",
    "EPOCHS = 20 #\n",
    "BS = 32  #batch size\n",
    "#we need to convert the image into array\n",
    "#train the model from the array\n",
    "\n",
    "DIRECTORY = r\"dataset\"       #Importing the dataset \n",
    "CATEGORIES = [\"with_mask\", \"without_mask\"]    #there are two folder inside the dataset categorised as with_mask and without_mask .\n",
    "#these are just name of the folder and must be name   the sub folder inside the dataset .\n",
    "#we need to this to create a location to the folder with mask and without mask .\n",
    "#later we are gonna join path to them i.e create location to that folder .\n",
    "\n",
    "# grab the list of images in our dataset directory, then initialize\n",
    "# the list of data (i.e., images) and class images\n",
    "print(\"[INFO] loading images...\")\n",
    "\n",
    "data = []    #to store the array value of image\n",
    "labels = [] #it stores the category of the image correspondly stored in the data\n",
    "\n",
    "for category in CATEGORIES:  #looping into the category\n",
    "    path = os.path.join(DIRECTORY, category) #joining or linking  the path of the CATEGORies and sub folder inside the dataset\n",
    "    #by excetuing this inst we get creatina an loc of subfolder in dataset folder\n",
    "    \n",
    "    for img in os.listdir(path):  #listdir is used to create a list of all folder prsent in paramter of loc passed inside it\n",
    "        #here it will create a list of image  with mask and for second iteration without mask\n",
    "        \n",
    "    \timg_path = os.path.join(path, img) #we are creating path of every image in the list created\n",
    "    \timage = load_img(img_path, target_size=(224, 224))#from tensorflow.keras.preprocessing.image import load_img.\n",
    "        #it loads the image from the specified path .target size is the dimension of the image \n",
    "        \n",
    "    \timage = img_to_array(image)#from tensorflow.keras.preprocessing.image import img_to_array.\n",
    "        #it coverts the image into an array .\n",
    "    \timage = preprocess_input(image) #from tensorflow.keras.applications.mobilenet_v2 import preprocess_input #\n",
    "        #making the image suitable for the model\n",
    "\n",
    "    \tdata.append(image) #appending the images\n",
    "    \tlabels.append(category)#appending the category of image.it is in the character \n",
    "\n",
    "# perform one-hot encoding on the labels\n",
    "lb = LabelBinarizer() #from sklearn.preprocessing import LabelBinarizer..it is transformer.\n",
    "#it will convert the charcter type type into binary.it is data processing and feature transforming\n",
    "\n",
    "labels = lb.fit_transform(labels)#it will do fit and transform at the same time \n",
    "#fit - > for calculation purpose of particular formula..here it is labelbinarizer i.e it is the transformer\n",
    "#multi-class labels to binary labels.\n",
    "\n",
    "labels = to_categorical(labels) #from tensorflow.keras.utils import to_categorical.....\n",
    "#it converts class vector or here class labels into binary matrix\n",
    "\n",
    "data = np.array(data, dtype=\"float32\") #coverts list into an array\n",
    "labels = np.array(labels) #to convert labels into array\n",
    "\n",
    "(trainX, testX, trainY, testY) = train_test_split(data, labels,\n",
    "\ttest_size=0.20, stratify=labels, random_state=42)\n",
    "#splitting the data for testing and training\n",
    "# data is split in a stratified fashion\n",
    "#from tensorflow.keras.preprocessing.image import ImageDataGenerator\n",
    "\n",
    "aug = ImageDataGenerator(\n",
    "\trotation_range=20,\n",
    "\tzoom_range=0.15,\n",
    "\twidth_shift_range=0.2,\n",
    "\theight_shift_range=0.2,\n",
    "\tshear_range=0.15,\n",
    "\thorizontal_flip=True,\n",
    "\tfill_mode=\"nearest\")\n",
    "#it creates various image from a single image by changing the property..usitable to detect face from all kind of angle\n",
    "\n",
    "# load the MobileNetV2 network, ensuring the head FC layer sets are\n",
    "# left off\n",
    "#we are creating two kind of models here by using MOBILENETS\n",
    "#1.base model by using mobilenets\n",
    "#2. head model by passing output of base models\n",
    "#from tensorflow.keras.applications import MobileNetV2\n",
    "baseModel = MobileNetV2(weights=\"imagenet\", include_top=False,\n",
    "\tinput_tensor=Input(shape=(224, 224, 3)))\n",
    "#it is a pretrained model by google for of general purpose computer vision neural networks\n",
    "#designed for mobile devices in mind to support classification, detection and more\n",
    "#include_top=false ..not to include fully connected cnn..later we will connect the fc layer\n",
    "#the dimension of image set intially, 3 is channel i.e rgb\n",
    "#fasters to process,less parameter,less memory,sutable foir mobile application\n",
    "#less accuray\n",
    "#imagenet is the pretrained weights \n",
    "\n",
    "# construct the head of the model that will be placed on top of the\n",
    "# the base model\n",
    "#construction of fully connected layer\n",
    "headModel = baseModel.output   #creating the headmodel from by passing the output of basemodel.\n",
    "headModel = AveragePooling2D(pool_size=(7, 7))(headModel) #scaling down the size of the image\n",
    "headModel = Flatten(name=\"flatten\")(headModel) #flattening the layer\n",
    "headModel = Dense(128, activation=\"relu\")(headModel) \n",
    " #rectified linear activation function\n",
    "# the activation function is responsible for transforming the summed we#ighted input from the node \n",
    "#into the activation of the node or output for that input.\n",
    "#is a piecewise linear function that will output the input directly if it is positive, otherwise, it will output zero.\n",
    "#For a given node, the inputs are multiplied by the weights in a node and summed together. \n",
    "#This value is referred to as the summed activation of the node. \n",
    "#The summed activation is then transformed via an activation function and defines the specific output or “activation” of the node\n",
    "headModel = Dropout(0.5)(headModel) \n",
    "#The Dropout layer randomly sets input units to 0 with a frequency of rate at each step during training time, \n",
    "#which helps prevent overfitting. \n",
    "#Inputs not set to 0 are scaled up by 1/(1 - rate) such that the sum over all inputs is unchanged.\n",
    "headModel = Dense(2, activation=\"softmax\")(headModel) \n",
    "#2 ouput with mask and withou mask with activation softmax whixh is the probability based activation function\n",
    "\n",
    "# place the head FC model on top of the base model (this will become\n",
    "# the actual model we will train)\n",
    "model = Model(inputs=baseModel.input, outputs=headModel)\n",
    "#model calling \n",
    "\n",
    "# loop over all layers in the base model and freeze them so they will\n",
    "# *not* be updated during the first training process\n",
    "for layer in baseModel.layers:\n",
    "\tlayer.trainable = False\n",
    "\n",
    "# compile our model\n",
    "print(\"[INFO] compiling model...\")\n",
    "opt = Adam(lr=INIT_LR, decay=INIT_LR / EPOCHS)\n",
    "#inorder to compile a keras model we requrie 2 aruguments\n",
    "#1.optimiser ->adams algorithm ->  To make as perfect or effective as possible and decreasing the learning rate by decay.\n",
    "#2.loss -> binary_crossentropy\n",
    "\n",
    "from tensorflow import keras\n",
    "model.compile(loss=\"binary_crossentropy\", optimizer=opt,\n",
    "\tmetrics=[\"accuracy\"]) #tracking accuracy metrices.\n",
    "\n",
    "# train the head of the network\n",
    "print(\"[INFO] training head...\")\n",
    "H = model.fit(\n",
    "\taug.flow(trainX, trainY, batch_size=BS),\n",
    "\tsteps_per_epoch=len(trainX) // BS,\n",
    "\tvalidation_data=(testX, testY),\n",
    "\tvalidation_steps=len(testX) // BS,\n",
    "\tepochs=EPOCHS) #fitting module\n",
    "\n",
    "# make predictions on the testing set\n",
    "print(\"[INFO] evaluating network...\")\n",
    "predIdxs = model.predict(testX, batch_size=BS) #evaluating the model\n",
    "\n",
    "# for each image in the testing set we need to find the index of the\n",
    "# label with corresponding largest predicted probability\n",
    "predIdxs = np.argmax(predIdxs, axis=1)\n",
    "\n",
    "# show a nicely formatted classification report\n",
    "print(classification_report(testY.argmax(axis=1), predIdxs,\n",
    "\ttarget_names=lb.classes_))\n",
    "\n",
    "# serialize the model to disk\n",
    "print(\"[INFO] saving mask detector model...\")\n",
    "model.save(\"mask_detector.model\", save_format=\"h5\")\n",
    "\n",
    "# plot the training loss and accuracy\n",
    "N = EPOCHS\n",
    "plt.style.use(\"ggplot\")\n",
    "plt.figure()\n",
    "plt.plot(np.arange(0, N), H.history[\"loss\"], label=\"train_loss\")\n",
    "plt.plot(np.arange(0, N), H.history[\"val_loss\"], label=\"val_loss\")\n",
    "plt.plot(np.arange(0, N), H.history[\"accuracy\"], label=\"train_acc\")\n",
    "plt.plot(np.arange(0, N), H.history[\"val_accuracy\"], label=\"val_acc\")\n",
    "plt.title(\"Training Loss and Accuracy\")\n",
    "plt.xlabel(\"Epoch #\")\n",
    "plt.ylabel(\"Loss/Accuracy\")\n",
    "plt.legend(loc=\"lower left\")\n",
    "plt.savefig(\"plot.png\")"
   ]
  },
  {
   "cell_type": "code",
   "execution_count": null,
   "metadata": {},
   "outputs": [],
   "source": [
    "# To use a pre-trained Caffe model with OpenCV DNN, we need two things\n",
    "#1.The structure of the neural network is stored as a .prototxt file i.e model architecture file\n",
    "#2..caffemodel file that contains the pre-trained weights\n",
    "\n",
    "#The prototxt is a text file that holds information about the structure of the neural network:\n",
    "#A list of layers in the neural network\n",
    "#The parameters of each layer, such as its name, type, input dimensions, and output dimensions\n",
    "#The connections between the layers\n",
    "\n",
    "#Caffe (Convolutional Architecture for Fast Feature Embedding) is a deep learning framework that allows users to create \n",
    "                                                                                         #1.image classification and \n",
    "                                                                                         #2.image segmentation models. \n",
    "#Initially, users create and save their models as plain text PROTOTEXT files.\n",
    "#After a user trains and refines their model using Caffe, the program saves the user's trained model as a CAFFEMODEL file.\n"
   ]
  },
  {
   "cell_type": "code",
   "execution_count": null,
   "metadata": {},
   "outputs": [],
   "source": [
    "from tensorflow.keras.applications.mobilenet_v2 import preprocess_input\n",
    "from tensorflow.keras.preprocessing.image import img_to_array\n",
    "from tensorflow.keras.models import load_model\n",
    "from imutils.video import VideoStream\n",
    "import numpy as np\n",
    "import imutils\n",
    "import time\n",
    "import cv2\n",
    "import os\n",
    "\n",
    "def detect_and_predict_mask(frame, faceNet, maskNet):\n",
    "\t# grab the dimensions of the frame and then construct a blob\n",
    "\t# from it\n",
    "\t(h, w) = frame.shape[:2]\n",
    "\tblob = cv2.dnn.blobFromImage(frame, 1.0, (224, 224),\n",
    "\t\t(104.0, 177.0, 123.0))\n",
    "\n",
    "\t# pass the blob through the network and obtain the face detections\n",
    "\tfaceNet.setInput(blob)\n",
    "\tdetections = faceNet.forward()\n",
    "\tprint(detections.shape)\n",
    "\n",
    "\t# initialize our list of faces, their corresponding locations,\n",
    "\t# and the list of predictions from our face mask network\n",
    "\tfaces = []\n",
    "\tlocs = []\n",
    "\tpreds = []\n",
    "\n",
    "\t# loop over the detections\n",
    "\tfor i in range(0, detections.shape[2]):\n",
    "\t\t# extract the confidence (i.e., probability) associated with\n",
    "\t\t# the detection\n",
    "\t\tconfidence = detections[0, 0, i, 2]\n",
    "\n",
    "\t\t# filter out weak detections by ensuring the confidence is\n",
    "\t\t# greater than the minimum confidence\n",
    "\t\tif confidence > 0.5:\n",
    "\t\t\t# compute the (x, y)-coordinates of the bounding box for\n",
    "\t\t\t# the object\n",
    "\t\t\tbox = detections[0, 0, i, 3:7] * np.array([w, h, w, h])\n",
    "\t\t\t(startX, startY, endX, endY) = box.astype(\"int\")\n",
    "\n",
    "\t\t\t# ensure the bounding boxes fall within the dimensions of\n",
    "\t\t\t# the frame\n",
    "\t\t\t(startX, startY) = (max(0, startX), max(0, startY))\n",
    "\t\t\t(endX, endY) = (min(w - 1, endX), min(h - 1, endY))\n",
    "\n",
    "\t\t\t# extract the face ROI, convert it from BGR to RGB channel\n",
    "\t\t\t# ordering, resize it to 224x224, and preprocess it\n",
    "\t\t\tface = frame[startY:endY, startX:endX]\n",
    "\t\t\tface = cv2.cvtColor(face, cv2.COLOR_BGR2RGB)\n",
    "\t\t\tface = cv2.resize(face, (224, 224))\n",
    "\t\t\tface = img_to_array(face)\n",
    "\t\t\tface = preprocess_input(face)\n",
    "\n",
    "\t\t\t# add the face and bounding boxes to their respective\n",
    "\t\t\t# lists\n",
    "\t\t\tfaces.append(face)\n",
    "\t\t\tlocs.append((startX, startY, endX, endY))\n",
    "\n",
    "\t# only make a predictions if at least one face was detected\n",
    "\tif len(faces) > 0:\n",
    "\t\t# for faster inference we'll make batch predictions on *all*\n",
    "\t\t# faces at the same time rather than one-by-one predictions\n",
    "\t\t# in the above `for` loop\n",
    "\t\tfaces = np.array(faces, dtype=\"float32\")\n",
    "\t\tpreds = maskNet.predict(faces, batch_size=32)\n",
    "\n",
    "\t# return a 2-tuple of the face locations and their corresponding\n",
    "\t# locations\n",
    "\treturn (locs, preds)\n",
    "\n",
    "# load our serialized face detector model from disk\n",
    "prototxtPath = r\"face_detector\\deploy.prototxt\"\n",
    "weightsPath = r\"face_detector\\res10_300x300_ssd_iter_140000.caffemodel\"\n",
    "faceNet = cv2.dnn.readNet(prototxtPath, weightsPath)\n",
    "# To use a pre-trained Caffe model with OpenCV DNN, we need two things\n",
    "#1.The structure of the neural network is stored as a .prototxt file i.e model architecture file\n",
    "#2..caffemodel file that contains the pre-trained weights\n",
    "\n",
    "#The prototxt is a text file that holds information about the structure of the neural network:\n",
    "#A list of layers in the neural network\n",
    "#The parameters of each layer, such as its name, type, input dimensions, and output dimensions\n",
    "#The connections between the layers\n",
    "\n",
    "#Caffe (Convolutional Architecture for Fast Feature Embedding) is a deep learning framework that allows users to create \n",
    "                                                                                         #1.image classification and \n",
    "                                                                                         #2.image segmentation models. \n",
    "#Initially, users create and save their models as plain text PROTOTEXT files.\n",
    "#After a user trains and refines their model using Caffe, the program saves the user's trained model as a CAFFEMODEL file.\n",
    "\n",
    "# load the face mask detector model from disk\n",
    "maskNet = load_model(\"mask_detector.model\")\n",
    "\n",
    "# initialize the video stream\n",
    "print(\"[INFO] starting video stream...\")\n",
    "vs = VideoStream(src=0).start()\n",
    "\n",
    "\n",
    "# loop over the frames from the video stream\n",
    "while True:\n",
    "\t# grab the frame from the threaded video stream and resize it\n",
    "\t# to have a maximum width of 400 pixels\n",
    "\tframe = vs.read()\n",
    "\tframe = imutils.resize(frame, width=400)\n",
    "\n",
    "\t# detect faces in the frame and determine if they are wearing a\n",
    "\t# face mask or not\n",
    "\t(locs, preds) = detect_and_predict_mask(frame, faceNet, maskNet)\n",
    "\n",
    "\t# loop over the detected face locations and their corresponding\n",
    "\t# locations\n",
    "\tfor (box, pred) in zip(locs, preds):\n",
    "\t\t# unpack the bounding box and predictions\n",
    "\t\t(startX, startY, endX, endY) = box\n",
    "\t\t(mask, withoutMask) = pred\n",
    "\n",
    "\t\t# determine the class label and color we'll use to draw\n",
    "\t\t# the bounding box and text\n",
    "\t\tlabel = \"Mask\" if mask > withoutMask else \"No Mask\"\n",
    "\t\tcolor = (0, 255, 0) if label == \"Mask\" else (0, 0, 255)\n",
    "\n",
    "\t\t# include the probability in the label\n",
    "\t\tlabel = \"{}: {:.2f}%\".format(label, max(mask, withoutMask) * 100)\n",
    "\n",
    "\t\t# display the label and bounding box rectangle on the output\n",
    "\t\t# frame\n",
    "\t\tcv2.putText(frame, label, (startX, startY - 10),\n",
    "\t\t\tcv2.FONT_HERSHEY_SIMPLEX, 0.45, color, 2)\n",
    "\t\tcv2.rectangle(frame, (startX, startY), (endX, endY), color, 2)\n",
    "\n",
    "\t# show the output frame\n",
    "\tcv2.imshow(\"Frame\", frame)\n",
    "\tkey = cv2.waitKey(1) & 0xFF\n",
    "\n",
    "\t# if the `q` key was pressed, break from the loop\n",
    "\tif key == ord(\"q\"):\n",
    "\t\tbreak\n",
    "\n",
    "# do a bit of cleanupq\n",
    "cv2.destroyAllWindows()\n",
    "vs.stop()"
   ]
  },
  {
   "cell_type": "code",
   "execution_count": null,
   "metadata": {},
   "outputs": [],
   "source": []
  },
  {
   "cell_type": "code",
   "execution_count": null,
   "metadata": {},
   "outputs": [],
   "source": []
  },
  {
   "cell_type": "code",
   "execution_count": null,
   "metadata": {},
   "outputs": [],
   "source": []
  },
  {
   "cell_type": "code",
   "execution_count": null,
   "metadata": {},
   "outputs": [],
   "source": []
  },
  {
   "cell_type": "code",
   "execution_count": null,
   "metadata": {},
   "outputs": [],
   "source": []
  }
 ],
 "metadata": {
  "kernelspec": {
   "display_name": "Python 3",
   "language": "python",
   "name": "python3"
  },
  "language_info": {
   "codemirror_mode": {
    "name": "ipython",
    "version": 3
   },
   "file_extension": ".py",
   "mimetype": "text/x-python",
   "name": "python",
   "nbconvert_exporter": "python",
   "pygments_lexer": "ipython3",
   "version": "3.8.5"
  }
 },
 "nbformat": 4,
 "nbformat_minor": 4
}
